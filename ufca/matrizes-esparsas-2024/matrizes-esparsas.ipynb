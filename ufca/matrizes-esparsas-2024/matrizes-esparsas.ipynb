{
 "cells": [
  {
   "cell_type": "markdown",
   "metadata": {
    "id": "nIXGOauQL8WO",
    "slideshow": {
     "slide_type": "slide"
    }
   },
   "source": [
    "# Introdução às matrizes esparsas"
   ]
  },
  {
   "cell_type": "markdown",
   "metadata": {},
   "source": [
    "<br>"
   ]
  },
  {
   "cell_type": "markdown",
   "metadata": {},
   "source": [
    "Vicente Sobrinho"
   ]
  },
  {
   "cell_type": "markdown",
   "metadata": {},
   "source": [
    "I Encontro Regional de Matemática  \n",
    "UFCA | Centro de Ciências e Tecnologia  \n",
    "<font size=4pt>Juazeiro do Norte, 7 de outubro de 2024</font>"
   ]
  },
  {
   "cell_type": "markdown",
   "metadata": {
    "slideshow": {
     "slide_type": "slide"
    }
   },
   "source": [
    "## Metas de hoje\n"
   ]
  },
  {
   "cell_type": "markdown",
   "metadata": {},
   "source": [
    "Ao concluir este minicurso, espera-se que você saiba o seguinte sobre matrizes esparsas:"
   ]
  },
  {
   "cell_type": "markdown",
   "metadata": {},
   "source": [
    "* definições, propriedades e origens\n",
    "* esquemas de armazenamento compactos\n",
    "* operações matriciais básicas\n",
    "* manipulação de matrizes esparsas com a SciPy"
   ]
  },
  {
   "cell_type": "markdown",
   "metadata": {
    "slideshow": {
     "slide_type": "slide"
    }
   },
   "source": [
    "## O que é uma matriz esparsa?"
   ]
  },
  {
   "cell_type": "markdown",
   "metadata": {},
   "source": [
    "Embora não haja consenso quanto a uma definição, algumas caracterizações são aceitas."
   ]
  },
  {
   "cell_type": "markdown",
   "metadata": {},
   "source": [
    "> \"The matrix may be sparse, either with the non-zero elements concentrated on a narrow band centered on the diagonal or alternatively they may be distributed in a less systematic manner. We shall refer to a matrix as dense if the percentage of zero elements or its distribution is such as to make it uneconomic to take advantage of their presence.\"  \n",
    "(Wilkinson, 1971)"
   ]
  },
  {
   "cell_type": "markdown",
   "metadata": {
    "slideshow": {
     "slide_type": "slide"
    }
   },
   "source": [
    "## O que é uma matriz esparsa?"
   ]
  },
  {
   "cell_type": "markdown",
   "metadata": {},
   "source": [
    "Uma matriz é dita **esparsa** quando possui poucos coeficientes não nulos, quando comparado à quantidade total de coeficientes."
   ]
  },
  {
   "cell_type": "markdown",
   "metadata": {
    "slideshow": {
     "slide_type": "slide"
    }
   },
   "source": [
    "## O que é uma matriz esparsa?"
   ]
  },
  {
   "cell_type": "markdown",
   "metadata": {},
   "source": [
    "Uma matriz $m \\times n$ é esparsa quando possui $nnz = O\\left(\\min\\!\\left\\{m, n\\right\\} \\right)$ coeficientes não nulos."
   ]
  },
  {
   "cell_type": "markdown",
   "metadata": {
    "slideshow": {
     "slide_type": "slide"
    }
   },
   "source": [
    "## Tipos de esparsidade"
   ]
  },
  {
   "cell_type": "markdown",
   "metadata": {},
   "source": [
    "* estruturada\n",
    "* não-estruturada"
   ]
  },
  {
   "cell_type": "code",
   "execution_count": null,
   "metadata": {
    "slideshow": {
     "slide_type": "fragment"
    }
   },
   "outputs": [],
   "source": [
    "# Uma função auxiliar para plotar os padrões de esparsidade\n",
    "import matplotlib.pyplot as plt\n",
    "from scipy.io import mmread\n",
    "\n",
    "def plota(arquivo):\n",
    "    matriz = mmread(arquivo)\n",
    "    plt.spy(matriz.toarray(), markersize = 0.5) \n",
    "    plt.show()"
   ]
  },
  {
   "cell_type": "markdown",
   "metadata": {
    "slideshow": {
     "slide_type": "slide"
    }
   },
   "source": [
    "## Estruturada"
   ]
  },
  {
   "cell_type": "code",
   "execution_count": null,
   "metadata": {},
   "outputs": [],
   "source": [
    "plota('Matrizes/sherman5.mtx.gz')"
   ]
  },
  {
   "cell_type": "markdown",
   "metadata": {
    "slideshow": {
     "slide_type": "slide"
    }
   },
   "source": [
    "## Estruturada"
   ]
  },
  {
   "cell_type": "code",
   "execution_count": null,
   "metadata": {},
   "outputs": [],
   "source": [
    "plota('Matrizes/CurlCurl_0.mtx.gz')"
   ]
  },
  {
   "cell_type": "markdown",
   "metadata": {
    "slideshow": {
     "slide_type": "slide"
    }
   },
   "source": [
    "## Não-estruturada"
   ]
  },
  {
   "cell_type": "code",
   "execution_count": null,
   "metadata": {},
   "outputs": [],
   "source": [
    "plota('Matrizes/bp_1000.mtx.gz')"
   ]
  },
  {
   "cell_type": "markdown",
   "metadata": {
    "slideshow": {
     "slide_type": "slide"
    }
   },
   "source": [
    "## Não-estruturada"
   ]
  },
  {
   "cell_type": "code",
   "execution_count": null,
   "metadata": {},
   "outputs": [],
   "source": [
    "plota('Matrizes/N_biocarta.mtx.gz')"
   ]
  },
  {
   "cell_type": "markdown",
   "metadata": {
    "slideshow": {
     "slide_type": "slide"
    }
   },
   "source": [
    "## O conceito vem de longa data"
   ]
  },
  {
   "cell_type": "markdown",
   "metadata": {},
   "source": [
    "Já em 1823, Gauss trabalhava com esse tipo de matriz ao resolver sistemas de mínimos quadrados.  \n",
    "Contudo, [Varga (1962)](https://link.springer.com/book/10.1007/978-3-642-05156-2) foi o primeiro a usar explicitamente o termo *esparso*."
   ]
  },
  {
   "cell_type": "markdown",
   "metadata": {
    "slideshow": {
     "slide_type": "fragment"
    }
   },
   "source": [
    "Segundo Saad (2023):\n",
    "* As primeiras técnicas para lidar com problemas esparsos têm origem na solução de equações diferenciais parciais\n",
    "* Somente na década de 1960 surgiu a metodologia que conhecemos hoje"
   ]
  },
  {
   "cell_type": "markdown",
   "metadata": {
    "slideshow": {
     "slide_type": "slide"
    }
   },
   "source": [
    "## De onde elas vêm?"
   ]
  },
  {
   "cell_type": "markdown",
   "metadata": {},
   "source": [
    "* **Clássicos:** análise estrutural, dinâmina dos fluidos computacional e outras fontes de equações diferenciais"
   ]
  },
  {
   "cell_type": "markdown",
   "metadata": {
    "slideshow": {
     "slide_type": "fragment"
    }
   },
   "source": [
    "* **Contemporâneos:**\n",
    "  - Aprendizado de máquina\n",
    "  - Deep learning\n",
    "  - Análise de redes sociais"
   ]
  },
  {
   "cell_type": "markdown",
   "metadata": {
    "slideshow": {
     "slide_type": "slide"
    }
   },
   "source": [
    "## A eterna busca por métodos eficientes"
   ]
  },
  {
   "cell_type": "markdown",
   "metadata": {},
   "source": [
    "Desejamos sempre realizar operações sobre matrizes do modo mais eficiente possível, evitando manipular valores nulos."
   ]
  },
  {
   "cell_type": "markdown",
   "metadata": {
    "slideshow": {
     "slide_type": "fragment"
    }
   },
   "source": [
    "Por exemplo,"
   ]
  },
  {
   "cell_type": "markdown",
   "metadata": {},
   "source": [
    "* Somar duas matrices quadradas de ordem $n$ requer $O(n^2)$ operações"
   ]
  },
  {
   "cell_type": "markdown",
   "metadata": {
    "slideshow": {
     "slide_type": "fragment"
    }
   },
   "source": [
    "* Somar duas matrizes esparsas $\\mathbf{A}$ e $\\mathbf{B}$ requer $O(nnz(A) + nnz(B))$"
   ]
  },
  {
   "cell_type": "markdown",
   "metadata": {
    "id": "URFj-sYxL8Wu",
    "slideshow": {
     "slide_type": "slide"
    }
   },
   "source": [
    "## Estruturas de dados compactas"
   ]
  },
  {
   "cell_type": "markdown",
   "metadata": {},
   "source": [
    "Há uma dezena de esquemas compactos para o armazenamento de matrizes esparsas. Abordaremos aqui os que considero mais versáteis:"
   ]
  },
  {
   "cell_type": "markdown",
   "metadata": {
    "id": "ksNwqg8GL8Wv"
   },
   "source": [
    "* COO: coordenadas\n",
    "* CSR: linhas esparsas comprimidas (do inglês, *Compressed Sparse Row*)"
   ]
  },
  {
   "cell_type": "markdown",
   "metadata": {
    "slideshow": {
     "slide_type": "fragment"
    }
   },
   "source": [
    "A versão transposta do CSR é conhecida como *Compressed Sparse Column* (CSC)."
   ]
  },
  {
   "cell_type": "markdown",
   "metadata": {
    "slideshow": {
     "slide_type": "slide"
    }
   },
   "source": [
    "## Denso"
   ]
  },
  {
   "cell_type": "markdown",
   "metadata": {},
   "source": [
    "* Simples\n",
    "* Coeficientes armazenados por linha ou coluna\n",
    "* Todos os zeros são armazenados"
   ]
  },
  {
   "cell_type": "markdown",
   "metadata": {
    "slideshow": {
     "slide_type": "slide"
    }
   },
   "source": [
    "## Denso"
   ]
  },
  {
   "cell_type": "markdown",
   "metadata": {},
   "source": [
    "<img src=\"Figuras/dns_exemplo.svg\" width=1280>"
   ]
  },
  {
   "cell_type": "markdown",
   "metadata": {
    "slideshow": {
     "slide_type": "fragment"
    }
   },
   "source": [
    "Custo de espaço: $O(n^2)$"
   ]
  },
  {
   "cell_type": "markdown",
   "metadata": {
    "id": "URFj-sYxL8Wu",
    "slideshow": {
     "slide_type": "slide"
    }
   },
   "source": [
    "## COO"
   ]
  },
  {
   "cell_type": "markdown",
   "metadata": {},
   "source": [
    "* Simples\n",
    "* Coeficientes nulos não são armazenados\n",
    "* Falta de ordenação pode deteriorar algoritmos"
   ]
  },
  {
   "cell_type": "markdown",
   "metadata": {
    "id": "URFj-sYxL8Wu",
    "slideshow": {
     "slide_type": "slide"
    }
   },
   "source": [
    "## COO"
   ]
  },
  {
   "cell_type": "markdown",
   "metadata": {},
   "source": [
    "<img src=\"Figuras/coo_exemplo.svg\" width=1280>"
   ]
  },
  {
   "cell_type": "markdown",
   "metadata": {
    "slideshow": {
     "slide_type": "fragment"
    }
   },
   "source": [
    "Custo de espaço: $O(nnz)$"
   ]
  },
  {
   "cell_type": "markdown",
   "metadata": {
    "id": "URFj-sYxL8Wu",
    "slideshow": {
     "slide_type": "slide"
    }
   },
   "source": [
    "## CSR"
   ]
  },
  {
   "cell_type": "markdown",
   "metadata": {},
   "source": [
    "* Ainda pode ser considerado simples\n",
    "* Não armazena coeficientes nulos\n",
    "* Operações matriciais rápidas"
   ]
  },
  {
   "cell_type": "markdown",
   "metadata": {
    "id": "URFj-sYxL8Wu",
    "slideshow": {
     "slide_type": "slide"
    }
   },
   "source": [
    "## CSR"
   ]
  },
  {
   "cell_type": "markdown",
   "metadata": {},
   "source": [
    "<img src=\"Figuras/csr_exemplo.svg\" width=1280>"
   ]
  },
  {
   "cell_type": "markdown",
   "metadata": {
    "slideshow": {
     "slide_type": "fragment"
    }
   },
   "source": [
    "Custo de espaço: $O(nnz)$"
   ]
  },
  {
   "cell_type": "markdown",
   "metadata": {
    "id": "URFj-sYxL8Wu",
    "slideshow": {
     "slide_type": "slide"
    }
   },
   "source": [
    "## Operações matriciais"
   ]
  },
  {
   "cell_type": "markdown",
   "metadata": {
    "id": "ksNwqg8GL8Wv"
   },
   "source": [
    "* vetor (denso/esparso) $\\odot$ vetor (denso/esparso)\n",
    "* matriz (densa/esparsa) $\\odot$ vetor (denso/esparso)\n",
    "* matriz (densa/esparsa) $\\odot$ matriz (densa/esparsa)"
   ]
  },
  {
   "cell_type": "markdown",
   "metadata": {
    "id": "URFj-sYxL8Wu",
    "slideshow": {
     "slide_type": "slide"
    }
   },
   "source": [
    "## Operações matriciais"
   ]
  },
  {
   "cell_type": "markdown",
   "metadata": {
    "id": "ksNwqg8GL8Wv"
   },
   "source": [
    "* <font color=\"lightgrey\">vetor (denso/esparso) $\\odot$ vetor (denso/esparso)</font>\n",
    "* **matriz (**<font color=\"lightgrey\">densa/</font>**esparsa)** $\\odot$ **vetor (denso**<font color=\"lightgrey\">/esparso</font>**)**\n",
    "* <font color=\"lightgrey\">matriz (densa/esparsa) $\\odot$ matriz (densa/esparsa)</font>"
   ]
  },
  {
   "cell_type": "markdown",
   "metadata": {
    "id": "URFj-sYxL8Wu",
    "slideshow": {
     "slide_type": "slide"
    }
   },
   "source": [
    "## Produto matriz-vetor"
   ]
  },
  {
   "cell_type": "markdown",
   "metadata": {},
   "source": [
    "**Entrada:** $\\mathbf{A}_{m\\times n}$, $\\mathbf{x}_{n\\times 1}$  "
   ]
  },
  {
   "cell_type": "markdown",
   "metadata": {},
   "source": [
    "**Saída:** $\\mathbf{y}_{m \\times 1} = \\mathbf{A} \\mathbf{x}$  "
   ]
  },
  {
   "cell_type": "markdown",
   "metadata": {
    "id": "URFj-sYxL8Wu",
    "slideshow": {
     "slide_type": "slide"
    }
   },
   "source": [
    "## Produto matriz-vetor"
   ]
  },
  {
   "cell_type": "markdown",
   "metadata": {},
   "source": [
    "*Denso*"
   ]
  },
  {
   "cell_type": "code",
   "execution_count": null,
   "metadata": {},
   "outputs": [],
   "source": [
    "def matvec_denso(A,x):\n",
    "    m,n = A.shape\n",
    "    y = np.zeros((m,))\n",
    "    for i in range(m):\n",
    "        valor = 0.0\n",
    "        for j in range(n):\n",
    "            valor = valor + A[i,j]*x[j]\n",
    "        y[i] = valor\n",
    "        \n",
    "    return y"
   ]
  },
  {
   "cell_type": "markdown",
   "metadata": {
    "slideshow": {
     "slide_type": "fragment"
    }
   },
   "source": [
    "Custo: $O(n^2)$"
   ]
  },
  {
   "cell_type": "markdown",
   "metadata": {
    "id": "URFj-sYxL8Wu",
    "slideshow": {
     "slide_type": "slide"
    }
   },
   "source": [
    "## Produto matriz-vetor"
   ]
  },
  {
   "cell_type": "markdown",
   "metadata": {},
   "source": [
    "*Denso*"
   ]
  },
  {
   "cell_type": "code",
   "execution_count": null,
   "metadata": {},
   "outputs": [],
   "source": [
    "import numpy as np\n",
    "\n",
    "A = np.array([[1.0, 0.0, 3.0, 0.0, 0.0, 0.0, 0.0, 0.0, 1.0],\n",
    "              [0.0, 2.0, 0.0, 0.0, 0.0, 1.0, 0.0, 1.0, 0.0],\n",
    "              [0.0, 4.0, 3.0, 0.0, 0.0, 0.0, 0.0, 0.0, 0.0],\n",
    "              [0.0, 0.0, 0.0, 1.0, 0.0, 0.0, 0.0, 0.0, 0.0],\n",
    "              [0.0, 0.0, 0.0, 0.0, 1.0, 0.0, 1.0, 4.0, 0.0],\n",
    "              [0.0, 0.0, 0.0, 0.0, 0.0, 2.0, 1.0, 0.0, 0.0],\n",
    "              [0.0, 0.0, 0.0, 0.0, 1.0, 3.0, 1.0, 0.0, 0.0],\n",
    "              [0.0, 0.0, 0.0, 0.0, 1.0, 0.0, 0.0, 3.0, 0.0],\n",
    "              [0.0, 0.0, 4.0, 0.0, 0.0, 0.0, 0.0, 0.0, 3.0]])"
   ]
  },
  {
   "cell_type": "code",
   "execution_count": null,
   "metadata": {},
   "outputs": [],
   "source": [
    "x = np.ones((9,))"
   ]
  },
  {
   "cell_type": "markdown",
   "metadata": {
    "id": "URFj-sYxL8Wu",
    "slideshow": {
     "slide_type": "slide"
    }
   },
   "source": [
    "## Produto matriz-vetor"
   ]
  },
  {
   "cell_type": "markdown",
   "metadata": {},
   "source": [
    "*Denso*"
   ]
  },
  {
   "cell_type": "code",
   "execution_count": null,
   "metadata": {},
   "outputs": [],
   "source": [
    "matvec_denso(A,x)"
   ]
  },
  {
   "cell_type": "markdown",
   "metadata": {
    "id": "URFj-sYxL8Wu",
    "slideshow": {
     "slide_type": "slide"
    }
   },
   "source": [
    "## Produto matriz-vetor"
   ]
  },
  {
   "cell_type": "markdown",
   "metadata": {},
   "source": [
    "*CSR*"
   ]
  },
  {
   "cell_type": "code",
   "execution_count": null,
   "metadata": {},
   "outputs": [],
   "source": [
    "def matvec_csr(linha,coluna,valor,x):\n",
    "    m,n = A.shape\n",
    "    y = np.zeros((m,))\n",
    "    for i in range(m):\n",
    "        c = 0.0\n",
    "        inicio = linha[i]\n",
    "        fim = linha[i+1]\n",
    "        for j in range(inicio,fim):\n",
    "            c = c + valor[j]*x[coluna[j]]\n",
    "        y[i] = c\n",
    "        \n",
    "    return y"
   ]
  },
  {
   "cell_type": "markdown",
   "metadata": {
    "slideshow": {
     "slide_type": "fragment"
    }
   },
   "source": [
    "$\\quad\\qquad$ Custo: $O(nnz)$"
   ]
  },
  {
   "cell_type": "markdown",
   "metadata": {
    "id": "URFj-sYxL8Wu",
    "slideshow": {
     "slide_type": "slide"
    }
   },
   "source": [
    "## Produto matriz-vetor"
   ]
  },
  {
   "cell_type": "markdown",
   "metadata": {},
   "source": [
    "*CSR*"
   ]
  },
  {
   "cell_type": "code",
   "execution_count": null,
   "metadata": {
    "scrolled": true
   },
   "outputs": [],
   "source": [
    "from scipy.sparse import csr_matrix\n",
    "\n",
    "Acsr = csr_matrix(A)\n",
    "Acsr"
   ]
  },
  {
   "cell_type": "markdown",
   "metadata": {
    "id": "URFj-sYxL8Wu",
    "slideshow": {
     "slide_type": "slide"
    }
   },
   "source": [
    "## Produto matriz-vetor"
   ]
  },
  {
   "cell_type": "markdown",
   "metadata": {},
   "source": [
    "*CSR*"
   ]
  },
  {
   "cell_type": "code",
   "execution_count": null,
   "metadata": {},
   "outputs": [],
   "source": [
    "Acsr.indptr"
   ]
  },
  {
   "cell_type": "code",
   "execution_count": null,
   "metadata": {},
   "outputs": [],
   "source": [
    "Acsr.indices"
   ]
  },
  {
   "cell_type": "code",
   "execution_count": null,
   "metadata": {},
   "outputs": [],
   "source": [
    "Acsr.data"
   ]
  },
  {
   "cell_type": "markdown",
   "metadata": {
    "id": "URFj-sYxL8Wu",
    "slideshow": {
     "slide_type": "slide"
    }
   },
   "source": [
    "## Produto matriz-vetor"
   ]
  },
  {
   "cell_type": "markdown",
   "metadata": {},
   "source": [
    "*CSR*"
   ]
  },
  {
   "cell_type": "code",
   "execution_count": null,
   "metadata": {},
   "outputs": [],
   "source": [
    "matvec_csr(Acsr.indptr, Acsr.indices, Acsr.data, x)"
   ]
  },
  {
   "cell_type": "markdown",
   "metadata": {
    "id": "URFj-sYxL8Wu",
    "slideshow": {
     "slide_type": "slide"
    }
   },
   "source": [
    "## Não reinvente a roda!"
   ]
  },
  {
   "cell_type": "markdown",
   "metadata": {},
   "source": [
    "Se for usar matrizes esparsas em Python, explore as funcionalidades oferecidas pela `scipy`."
   ]
  },
  {
   "cell_type": "markdown",
   "metadata": {},
   "source": [
    "Códigos caseiros podem ser muito ineficientes!"
   ]
  },
  {
   "cell_type": "markdown",
   "metadata": {
    "id": "URFj-sYxL8Wu",
    "slideshow": {
     "slide_type": "slide"
    }
   },
   "source": [
    "## Produto matriz-vetor com a NumPy"
   ]
  },
  {
   "cell_type": "markdown",
   "metadata": {},
   "source": [
    "*Denso*"
   ]
  },
  {
   "cell_type": "code",
   "execution_count": null,
   "metadata": {},
   "outputs": [],
   "source": [
    "np.dot(A,x)"
   ]
  },
  {
   "cell_type": "markdown",
   "metadata": {
    "id": "URFj-sYxL8Wu",
    "slideshow": {
     "slide_type": "slide"
    }
   },
   "source": [
    "## Produto matriz-vetor esparso com a SciPy"
   ]
  },
  {
   "cell_type": "markdown",
   "metadata": {},
   "source": [
    "*CSR*"
   ]
  },
  {
   "cell_type": "code",
   "execution_count": null,
   "metadata": {},
   "outputs": [],
   "source": [
    "Acsr.dot(x)"
   ]
  },
  {
   "cell_type": "markdown",
   "metadata": {
    "slideshow": {
     "slide_type": "slide"
    }
   },
   "source": [
    "## Resolução de sistemas lineares esparsos"
   ]
  },
  {
   "cell_type": "markdown",
   "metadata": {},
   "source": [
    "Há duas grandes classes de métodos generalistas para a solução de sistemas lineares:"
   ]
  },
  {
   "cell_type": "markdown",
   "metadata": {},
   "source": [
    "* Métodos diretos: baseados na eliminação Gaussiana\n",
    "* Métodos iterativos: baseados em iterações de ponto fixo"
   ]
  },
  {
   "cell_type": "markdown",
   "metadata": {
    "slideshow": {
     "slide_type": "fragment"
    }
   },
   "source": [
    "Quando lidamos com sistemas de $> 10^6$ equações, os métodos iterativos geralmente são a primeira escolha."
   ]
  },
  {
   "cell_type": "markdown",
   "metadata": {
    "slideshow": {
     "slide_type": "slide"
    }
   },
   "source": [
    "## Resolução de sistemas lineares esparsos"
   ]
  },
  {
   "cell_type": "markdown",
   "metadata": {},
   "source": [
    "Na SciPy, diversos desses métodos encontram-se implementados, dos quais merecem destaque:"
   ]
  },
  {
   "cell_type": "markdown",
   "metadata": {},
   "source": [
    "`spsolve(A, b)`\n",
    "> Resolve via escalonamento o sistema linear esparso $\\mathbf{A}\\mathbf{x}=\\mathbf{b}$, onde $\\mathbf{b}$ pode ser um vetor ou uma matriz"
   ]
  },
  {
   "cell_type": "markdown",
   "metadata": {
    "slideshow": {
     "slide_type": "slide"
    }
   },
   "source": [
    "## Resolução de sistemas lineares esparsos"
   ]
  },
  {
   "cell_type": "markdown",
   "metadata": {},
   "source": [
    "Na SciPy, diversos desses métodos encontram-se implementados, dos quais merecem destaque:"
   ]
  },
  {
   "cell_type": "markdown",
   "metadata": {
    "slideshow": {
     "slide_type": "-"
    }
   },
   "source": [
    "`cg`(A, b)  \n",
    "> Usa o método iterativo do Gradiente Conjugado para matrizes simétricas, positivas-definidas"
   ]
  },
  {
   "cell_type": "markdown",
   "metadata": {
    "slideshow": {
     "slide_type": "slide"
    }
   },
   "source": [
    "## Resolução de sistemas lineares esparsos"
   ]
  },
  {
   "cell_type": "markdown",
   "metadata": {},
   "source": [
    "Na SciPy, diversos desses métodos encontram-se implementados, dos quais merecem destaque:"
   ]
  },
  {
   "cell_type": "markdown",
   "metadata": {
    "slideshow": {
     "slide_type": "-"
    }
   },
   "source": [
    "`gmres`(A, b)  \n",
    "> Usa o método iterativo do Resíduo Mínimo Generalizado para matrizes não simétricas"
   ]
  },
  {
   "cell_type": "markdown",
   "metadata": {
    "slideshow": {
     "slide_type": "slide"
    }
   },
   "source": [
    "## Resolução de sistemas lineares esparsos"
   ]
  },
  {
   "cell_type": "code",
   "execution_count": null,
   "metadata": {},
   "outputs": [],
   "source": [
    "import scipy.sparse.linalg as sp\n",
    "\n",
    "soln = sp.spsolve(Acsr,np.ones(9))\n",
    "soln"
   ]
  },
  {
   "cell_type": "code",
   "execution_count": null,
   "metadata": {
    "slideshow": {
     "slide_type": "fragment"
    }
   },
   "outputs": [],
   "source": [
    "soln = sp.cg(Acsr,np.ones(9))\n",
    "soln"
   ]
  },
  {
   "cell_type": "code",
   "execution_count": null,
   "metadata": {
    "slideshow": {
     "slide_type": "fragment"
    }
   },
   "outputs": [],
   "source": [
    "soln = sp.gmres(Acsr,np.ones(9))\n",
    "soln"
   ]
  },
  {
   "cell_type": "markdown",
   "metadata": {
    "slideshow": {
     "slide_type": "slide"
    }
   },
   "source": [
    "## Aplicação: equação de Laplace"
   ]
  },
  {
   "cell_type": "markdown",
   "metadata": {},
   "source": [
    "Considere o seguinte problema de valor de contorno:"
   ]
  },
  {
   "cell_type": "markdown",
   "metadata": {},
   "source": [
    "$$\n",
    "u_{xx} + u_{yy} = 0, \\qquad 0<x<3, \\qquad 0<y<2\n",
    "$$"
   ]
  },
  {
   "cell_type": "markdown",
   "metadata": {},
   "source": [
    "$$\n",
    "u(x,0) = 0, \\quad  u(x,2) = 0, \\quad u(0,y) = 0, \\quad u(3,y)= f(y),\n",
    "$$"
   ]
  },
  {
   "cell_type": "markdown",
   "metadata": {},
   "source": [
    "$$\n",
    "f(y) =\n",
    "\\begin{cases}\n",
    "y, & 0 \\le y \\le 1\\\\\n",
    "2 - y, & 1 \\le y \\le 2\n",
    "\\end{cases}\n",
    "$$"
   ]
  },
  {
   "cell_type": "markdown",
   "metadata": {
    "slideshow": {
     "slide_type": "slide"
    }
   },
   "source": [
    "## Solução exata"
   ]
  },
  {
   "cell_type": "markdown",
   "metadata": {},
   "source": [
    "Aplicando o método da separação de variáveis, obtemos a solução exata:"
   ]
  },
  {
   "cell_type": "markdown",
   "metadata": {},
   "source": [
    "$$\n",
    "u(x,y) = \\dfrac{8}{\\pi^2} \\sum_{k=1}^{\\infty} \\frac{\\operatorname{sen}\\left(k\\pi/2\\right)}{k^2\\operatorname{senh}\\left(3k\\pi/2\\right)} \\operatorname{senh}\\left(\\frac{k\\pi x}{2}\\right) \\operatorname{sen}\\left(\\frac{k\\pi y}{2}\\right)\n",
    "$$"
   ]
  },
  {
   "cell_type": "markdown",
   "metadata": {
    "slideshow": {
     "slide_type": "slide"
    }
   },
   "source": [
    "## Solução exata"
   ]
  },
  {
   "cell_type": "code",
   "execution_count": null,
   "metadata": {},
   "outputs": [],
   "source": [
    "def exata(x,y,N=100):\n",
    "    s = 0.0\n",
    "    for k in range(1,N+1):\n",
    "        num1 = np.sin(k*np.pi/2.0)\n",
    "        num2 = np.sinh(k*np.pi*x/2.0)\n",
    "        num3 = np.sin(k*np.pi*y/2.0)\n",
    "        den  = k*k*np.sinh(3*k*np.pi/2.0)\n",
    "        s = s + (num1/den)*num2*num3\n",
    "        \n",
    "    return (8*s)/(np.pi**2)"
   ]
  },
  {
   "cell_type": "markdown",
   "metadata": {
    "slideshow": {
     "slide_type": "slide"
    }
   },
   "source": [
    "## Solução exata"
   ]
  },
  {
   "cell_type": "code",
   "execution_count": null,
   "metadata": {},
   "outputs": [],
   "source": [
    "from matplotlib import cm # para selecionar o mapa de cores a seguir\n",
    "\n",
    "N = 50\n",
    "x = np.linspace(0, 3, N+2)\n",
    "y = np.linspace(0, 2, N+2)\n",
    "X, Y = np.meshgrid(x, y)\n",
    "Z = exata(X,Y)"
   ]
  },
  {
   "cell_type": "markdown",
   "metadata": {
    "slideshow": {
     "slide_type": "slide"
    }
   },
   "source": [
    "## Solução exata"
   ]
  },
  {
   "cell_type": "code",
   "execution_count": null,
   "metadata": {},
   "outputs": [],
   "source": [
    "# Plotando a solução da equação de Laplace\n",
    "fig, ax = plt.subplots()\n",
    "mapa = ax.pcolormesh(X, Y, Z, cmap=cm.coolwarm)\n",
    "fig.colorbar(mapa, ax=ax)\n",
    "plt.show()"
   ]
  },
  {
   "cell_type": "markdown",
   "metadata": {
    "slideshow": {
     "slide_type": "slide"
    }
   },
   "source": [
    "## Solução exata"
   ]
  },
  {
   "cell_type": "code",
   "execution_count": null,
   "metadata": {
    "scrolled": false
   },
   "outputs": [],
   "source": [
    "# Plotando a solução da equação de Laplace\n",
    "fig, ax = plt.subplots(subplot_kw={\"projection\": \"3d\"})\n",
    "surf = ax.plot_surface(X, Y, Z, cmap=cm.coolwarm, linewidth=0, antialiased=False)\n",
    "fig.colorbar(surf, shrink=0.5, aspect=5)\n",
    "plt.show()"
   ]
  },
  {
   "cell_type": "markdown",
   "metadata": {
    "slideshow": {
     "slide_type": "slide"
    }
   },
   "source": [
    "## Método das diferenças finitas"
   ]
  },
  {
   "cell_type": "markdown",
   "metadata": {},
   "source": [
    "Baseado na série de Taylor:"
   ]
  },
  {
   "cell_type": "markdown",
   "metadata": {},
   "source": [
    "$$\n",
    "u(x+h) = u(x) + h u'(x) + \\frac{h^2}{2} u''(x)  + \\frac{h^3}{6} u'''(x) + \\frac{h^4}{24} u^{(4)}(\\xi)\n",
    "$$"
   ]
  },
  {
   "cell_type": "markdown",
   "metadata": {
    "slideshow": {
     "slide_type": "slide"
    }
   },
   "source": [
    "## Aproximação da segunda derivada"
   ]
  },
  {
   "cell_type": "markdown",
   "metadata": {},
   "source": [
    "Somando as expressões:"
   ]
  },
  {
   "cell_type": "markdown",
   "metadata": {},
   "source": [
    "$$\n",
    "u(x-h) = u(x) - h u'(x) + \\frac{h^2}{2} u''(x)  - \\frac{h^3}{6} u'''(x) + \\frac{h^4}{24} u^{(4)}(\\xi_1)\n",
    "$$"
   ]
  },
  {
   "cell_type": "markdown",
   "metadata": {},
   "source": [
    "$$\n",
    "u(x+h) = u(x) + h u'(x) + \\frac{h^2}{2} u''(x)  + \\frac{h^3}{6} u'''(x) + \\frac{h^4}{24} u^{(4)}(\\xi_2)\n",
    "$$"
   ]
  },
  {
   "cell_type": "markdown",
   "metadata": {
    "slideshow": {
     "slide_type": "slide"
    }
   },
   "source": [
    "## Aproximação da segunda derivada"
   ]
  },
  {
   "cell_type": "markdown",
   "metadata": {},
   "source": [
    "Obtemos:"
   ]
  },
  {
   "cell_type": "markdown",
   "metadata": {},
   "source": [
    "$$\n",
    "u''(x) = \\frac{u(x+h) - 2 u(x) + u(x-h)}{h^2} - \\frac{h^2}{12} u^{(4)}(\\xi)\n",
    "$$"
   ]
  },
  {
   "cell_type": "markdown",
   "metadata": {},
   "source": [
    "com $\\xi_1 \\le \\xi \\le \\xi_2$."
   ]
  },
  {
   "cell_type": "markdown",
   "metadata": {
    "slideshow": {
     "slide_type": "slide"
    }
   },
   "source": [
    "## Aproximação da segunda derivada"
   ]
  },
  {
   "cell_type": "markdown",
   "metadata": {},
   "source": [
    "Portanto:"
   ]
  },
  {
   "cell_type": "markdown",
   "metadata": {},
   "source": [
    "$$\n",
    "u''(x) \\approx \\frac{u(x+h) - 2 u(x) + u(x-h)}{h^2}\n",
    "$$"
   ]
  },
  {
   "cell_type": "markdown",
   "metadata": {
    "slideshow": {
     "slide_type": "slide"
    }
   },
   "source": [
    "## Discretização da equação de Laplace"
   ]
  },
  {
   "cell_type": "markdown",
   "metadata": {},
   "source": [
    "Discretizando uniformemente o retângulo $[0,3] \\times [0,2]$ em $n + 1$ sub-intervalos em cada dimensão, temos"
   ]
  },
  {
   "cell_type": "markdown",
   "metadata": {},
   "source": [
    "$$\n",
    "x_i = i\\cdot h_1, \\qquad i = 0, 1, \\dotsc, n+1, \\qquad h_1 = \\frac{3}{n+1}\n",
    "$$"
   ]
  },
  {
   "cell_type": "markdown",
   "metadata": {},
   "source": [
    "$$\n",
    "y_j = j\\cdot h_2, \\qquad j = 0, 1, \\dotsc, n+1, \\qquad h_2 = \\frac{2}{n+1}\n",
    "$$"
   ]
  },
  {
   "cell_type": "markdown",
   "metadata": {
    "slideshow": {
     "slide_type": "slide"
    }
   },
   "source": [
    "## Discretização da equação de Laplace"
   ]
  },
  {
   "cell_type": "markdown",
   "metadata": {},
   "source": [
    "Definindo"
   ]
  },
  {
   "cell_type": "markdown",
   "metadata": {},
   "source": [
    "$$\n",
    "u_{i,j} = u(x_i, y_j)\n",
    "$$"
   ]
  },
  {
   "cell_type": "markdown",
   "metadata": {
    "slideshow": {
     "slide_type": "slide"
    }
   },
   "source": [
    "## Discretização da equação de Laplace"
   ]
  },
  {
   "cell_type": "markdown",
   "metadata": {},
   "source": [
    "podemos escrever:"
   ]
  },
  {
   "cell_type": "markdown",
   "metadata": {},
   "source": [
    "$$\n",
    "u_{xx}(x_i,y_j) + u_{yy}(x_i,y_j) \\approx \\frac{u_{i-1,j} + u_{i+1,j}}{h_1^2}\n",
    "        - 2 \\left( \\frac{1}{h_1^2} + \\frac{1}{h_2^2}\\right) u_{ij}\n",
    "        + \\frac{u_{i,j-1} + u_{i,j+1}}{h_2^2} = 0\n",
    "$$"
   ]
  },
  {
   "cell_type": "markdown",
   "metadata": {
    "slideshow": {
     "slide_type": "slide"
    }
   },
   "source": [
    "## Discretização da equação de Laplace"
   ]
  },
  {
   "cell_type": "code",
   "execution_count": null,
   "metadata": {},
   "outputs": [],
   "source": [
    "# Domínio retangular I x J\n",
    "I = (0.0, 3.0)\n",
    "J = (0.0, 2.0)"
   ]
  },
  {
   "cell_type": "code",
   "execution_count": null,
   "metadata": {},
   "outputs": [],
   "source": [
    "# Quantidade de pontos internos da grade, em cada direção\n",
    "n = 50"
   ]
  },
  {
   "cell_type": "code",
   "execution_count": null,
   "metadata": {},
   "outputs": [],
   "source": [
    "# Comprimento das células da grade (dx, dy)\n",
    "h1 = (I[1] - I[0])/(n + 1)\n",
    "h2 = (J[1] - J[0])/(n + 1)"
   ]
  },
  {
   "cell_type": "markdown",
   "metadata": {
    "slideshow": {
     "slide_type": "slide"
    }
   },
   "source": [
    "## Discretização da equação de Laplace"
   ]
  },
  {
   "cell_type": "code",
   "execution_count": null,
   "metadata": {},
   "outputs": [],
   "source": [
    "# Quantidade de incógnitas\n",
    "m = n**2\n",
    "m"
   ]
  },
  {
   "cell_type": "markdown",
   "metadata": {
    "slideshow": {
     "slide_type": "slide"
    }
   },
   "source": [
    "## Grade de diferenças finitas"
   ]
  },
  {
   "cell_type": "code",
   "execution_count": null,
   "metadata": {},
   "outputs": [],
   "source": [
    "x = np.linspace(I[0], I[1], n+2)\n",
    "y = np.linspace(J[0], J[1], n+2)\n",
    "X, Y = np.meshgrid(x, y)\n",
    "plt.scatter(X,Y)\n",
    "plt.show()"
   ]
  },
  {
   "cell_type": "markdown",
   "metadata": {
    "slideshow": {
     "slide_type": "slide"
    }
   },
   "source": [
    "## Identificação do contorno"
   ]
  },
  {
   "cell_type": "code",
   "execution_count": null,
   "metadata": {},
   "outputs": [],
   "source": [
    "def contorno(i,j,n): # n é a quantidade de nós internos da grade\n",
    "    if (i == 0) or (i == (n+1)) or (j == 0) or (j == (n+1)):\n",
    "        return True\n",
    "    return False"
   ]
  },
  {
   "cell_type": "markdown",
   "metadata": {
    "slideshow": {
     "slide_type": "slide"
    }
   },
   "source": [
    "## Numeração das equações"
   ]
  },
  {
   "cell_type": "code",
   "execution_count": null,
   "metadata": {},
   "outputs": [],
   "source": [
    "def equacao(i,j,n): # n é a quantidade de nós internos da grade\n",
    "    return (i-1)*n + (j-1)"
   ]
  },
  {
   "cell_type": "markdown",
   "metadata": {
    "slideshow": {
     "slide_type": "slide"
    }
   },
   "source": [
    "## Aplicando as condições de contorno"
   ]
  },
  {
   "cell_type": "code",
   "execution_count": null,
   "metadata": {},
   "outputs": [],
   "source": [
    "# Condição de contorno\n",
    "solucao = np.zeros((n+2,n+2))\n",
    "\n",
    "def f(y):\n",
    "    if 0 <= y <= 1:\n",
    "        return y\n",
    "    else:\n",
    "        return 2.0 - y\n",
    "\n",
    "y = np.linspace(J[0], J[1], n+2)\n",
    "for i in range(n+2):\n",
    "    solucao[i, n+1] = f(y[i])"
   ]
  },
  {
   "cell_type": "markdown",
   "metadata": {
    "slideshow": {
     "slide_type": "slide"
    }
   },
   "source": [
    "## Montagem do sistema linear esparso"
   ]
  },
  {
   "cell_type": "code",
   "execution_count": null,
   "metadata": {},
   "outputs": [],
   "source": [
    "# Contagem de coeficientes não nulos\n",
    "nnz = 0\n",
    "for i in range(1,n+1):\n",
    "    for j in range(1,n+1):\n",
    "        # Contabiliza o coeficiente da diagonal\n",
    "        nnz = nnz + 1\n",
    "\n",
    "        # Índices dos nós vizinhos\n",
    "        vizinhos = [(i+1, j), (i-1, j), (i, j+1), (i, j-1)]\n",
    "        for k,v in enumerate(vizinhos):\n",
    "            if not contorno(v[0], v[1], n):\n",
    "                nnz = nnz + 1        \n",
    "\n",
    "print(\"nnz =\", nnz)"
   ]
  },
  {
   "cell_type": "markdown",
   "metadata": {
    "slideshow": {
     "slide_type": "slide"
    }
   },
   "source": [
    "## Montagem do sistema linear esparso"
   ]
  },
  {
   "cell_type": "code",
   "execution_count": null,
   "metadata": {},
   "outputs": [],
   "source": [
    "# Montagem do sistema no formato CSR\n",
    "csr_linha  = np.zeros((m+1), dtype=int)\n",
    "csr_coluna  = np.zeros((nnz,), dtype=int)\n",
    "csr_valor  = np.zeros((nnz,))\n",
    "bcsr = np.zeros((m,))"
   ]
  },
  {
   "cell_type": "markdown",
   "metadata": {
    "slideshow": {
     "slide_type": "slide"
    }
   },
   "source": [
    "## Montagem do sistema linear esparso"
   ]
  },
  {
   "cell_type": "code",
   "execution_count": null,
   "metadata": {},
   "outputs": [],
   "source": [
    "cont = 0 # usado para preencher os arranjos das colunas e valores\n",
    "prox = 0 # usado para preencher o arranjo das linhas\n",
    "pesos = [-1.0/h2**2, -1.0/h1**2, 2.0*(1.0/h1**2 + 1.0/h2**2), -1.0/h1**2, -1.0/h2**2]\n",
    "for i in range(1,n+1):\n",
    "    for j in range(1,n+1):\n",
    "        # Número da equação/incógnita\n",
    "        linha = equacao(i, j, n)\n",
    "\n",
    "        # Nós do stencil em ordem crescente dos números das equações correspondentes\n",
    "        nos = [(i-1, j), (i, j-1), (i,j), (i, j+1), (i+1, j)]\n",
    "        for k,v in enumerate(nos):\n",
    "            if not contorno(v[0], v[1], n):\n",
    "                coluna = equacao(v[0], v[1], n)\n",
    "                csr_coluna[cont] = coluna\n",
    "                csr_valor[cont] = pesos[k]\n",
    "                cont = cont + 1\n",
    "            else:\n",
    "                bcsr[linha] = bcsr[linha] - pesos[k]*solucao[v[0], v[1]]\n",
    "\n",
    "        prox = prox + 1\n",
    "        csr_linha[prox] = cont"
   ]
  },
  {
   "cell_type": "markdown",
   "metadata": {
    "slideshow": {
     "slide_type": "slide"
    }
   },
   "source": [
    "## Padrão de esparsidade"
   ]
  },
  {
   "cell_type": "code",
   "execution_count": null,
   "metadata": {},
   "outputs": [],
   "source": [
    "Acsr = csr_matrix((csr_valor, csr_coluna, csr_linha))\n",
    "plt.spy(Acsr, markersize = 0.5)\n",
    "plt.show()"
   ]
  },
  {
   "cell_type": "markdown",
   "metadata": {
    "slideshow": {
     "slide_type": "slide"
    }
   },
   "source": [
    "## Resolvendo o sistema linear esparso"
   ]
  },
  {
   "cell_type": "code",
   "execution_count": null,
   "metadata": {},
   "outputs": [],
   "source": [
    "%%time\n",
    "# Resolvendo o sistema\n",
    "u = sp.gmres(Acsr,bcsr)[0]\n",
    "solucao[1:n+1, 1:n+1] = u.reshape(n,n)"
   ]
  },
  {
   "cell_type": "markdown",
   "metadata": {
    "slideshow": {
     "slide_type": "slide"
    }
   },
   "source": [
    "## Solução via diferenças finitas"
   ]
  },
  {
   "cell_type": "code",
   "execution_count": null,
   "metadata": {},
   "outputs": [],
   "source": [
    "# Plotando a solução da equação de Laplace\n",
    "fig, ax = plt.subplots()\n",
    "mapa = ax.pcolormesh(X, Y, solucao, cmap=cm.coolwarm)\n",
    "fig.colorbar(mapa, ax=ax)\n",
    "plt.show()"
   ]
  },
  {
   "cell_type": "markdown",
   "metadata": {
    "slideshow": {
     "slide_type": "slide"
    }
   },
   "source": [
    "## Solução via diferenças finitas"
   ]
  },
  {
   "cell_type": "code",
   "execution_count": null,
   "metadata": {},
   "outputs": [],
   "source": [
    "# Plotando a solução da equação de Laplace\n",
    "fig, ax = plt.subplots(subplot_kw={\"projection\": \"3d\"})\n",
    "surf = ax.plot_surface(X, Y, solucao, cmap=cm.coolwarm,linewidth=0, antialiased=False)\n",
    "fig.colorbar(surf, shrink=0.5, aspect=5)\n",
    "plt.show()"
   ]
  },
  {
   "cell_type": "markdown",
   "metadata": {
    "id": "WPzCW36qL8W3",
    "slideshow": {
     "slide_type": "slide"
    }
   },
   "source": [
    "## Referências"
   ]
  },
  {
   "cell_type": "markdown",
   "metadata": {
    "id": "r29QWygoL8W3"
   },
   "source": [
    "* [Notas de aula](https://www-users.cse.umn.edu/~saad/csci8314/) do professor Yousef Saad da disciplina \"CSCI 8314: Sparse matrix computations\"."
   ]
  },
  {
   "cell_type": "markdown",
   "metadata": {
    "id": "r29QWygoL8W3"
   },
   "source": [
    "* [Notas de aula](https://courses.grainger.illinois.edu/cs357/sp2024/) da professora Mariana Silva da disciplina \"CS 357 - Numerical Methods I\"."
   ]
  },
  {
   "cell_type": "markdown",
   "metadata": {
    "id": "WPzCW36qL8W3",
    "slideshow": {
     "slide_type": "slide"
    }
   },
   "source": [
    "## Referências"
   ]
  },
  {
   "cell_type": "markdown",
   "metadata": {},
   "source": [
    "* SAAD, Yousef. Iterative methods for sparse linear systems. Society for Industrial and Applied Mathematics, 2003."
   ]
  },
  {
   "cell_type": "markdown",
   "metadata": {},
   "source": [
    "* BERTACCINI, Daniele; DURASTANTE, Fabio. Iterative methods and preconditioning for large and sparse linear systems with applications. Chapman and Hall/CRC, 2018."
   ]
  },
  {
   "cell_type": "markdown",
   "metadata": {
    "id": "WPzCW36qL8W3",
    "slideshow": {
     "slide_type": "slide"
    }
   },
   "source": [
    "## Referências"
   ]
  },
  {
   "cell_type": "markdown",
   "metadata": {},
   "source": [
    "* O exemplo da equação de Laplace foi extraído dos slides do professor Marcos Eduardo Valle sobre a [técnica de separação de variáveis](https://www.ime.unicamp.br/~valle/Teaching/2016/MA311/Aula27.pdf)."
   ]
  },
  {
   "cell_type": "markdown",
   "metadata": {},
   "source": [
    "* As matrizes contidas neste repositório no formato [MatrixMarket](https://math.nist.gov/MatrixMarket/) foram obtidas no site [SuiteSparse](https://suitesparse-collection-website.herokuapp.com/)."
   ]
  },
  {
   "cell_type": "markdown",
   "metadata": {
    "id": "5kfbNvzsL8W4",
    "slideshow": {
     "slide_type": "slide"
    }
   },
   "source": [
    "**Introdução às matrizes esparsas**\n",
    "\n",
    "Vicente Sobrinho\n",
    "\n",
    "I Encontro Regional de Matemática  \n",
    "UFCA | Centro de Ciências e Tecnologia  \n",
    "<font size=4pt>Juazeiro do Norte, 7 de outubro de 2024</font>"
   ]
  }
 ],
 "metadata": {
  "celltoolbar": "Slideshow",
  "colab": {
   "provenance": []
  },
  "kernelspec": {
   "display_name": "Python 3 (ipykernel)",
   "language": "python",
   "name": "python3"
  },
  "language_info": {
   "codemirror_mode": {
    "name": "ipython",
    "version": 3
   },
   "file_extension": ".py",
   "mimetype": "text/x-python",
   "name": "python",
   "nbconvert_exporter": "python",
   "pygments_lexer": "ipython3",
   "version": "3.9.2"
  },
  "rise": {
   "backimage": "Figuras/fundo.svg",
   "enable_chalkboard": true
  }
 },
 "nbformat": 4,
 "nbformat_minor": 1
}
